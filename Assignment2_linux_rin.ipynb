{
 "cells": [
  {
   "cell_type": "code",
   "execution_count": 2,
   "metadata": {
    "collapsed": true
   },
   "outputs": [],
   "source": [
    "%matplotlib inline\n",
    "#import data inspired by https://www.kaggle.com/stkbailey/teaching-notebook-for-total-imaging-newbies\n",
    "\n",
    "import pathlib\n",
    "import imageio\n",
    "import numpy as np\n",
    "import matplotlib.pyplot as plt\n",
    "\n",
    "# Glob the training data and load a single image path\n",
    "training_paths = pathlib.Path('C:/Users/pc/Python_Projects/MachineLearningWARWICK/Ass2data/FullTraining').glob('*/images/*.png')\n",
    "training_sorted = sorted([x for x in training_paths])\n",
    "\n",
    "masks_paths = pathlib.Path('C:/Users/pc/Python_Projects/MachineLearningWARWICK/Ass2data/FullTraining').glob('*/masks/*.png')\n",
    "masks_sorted = sorted([x for x in masks_paths])\n",
    "\n",
    "testing_paths = pathlib.Path('C:/Users/pc/Python_Projects/MachineLearningWARWICK/Ass2data/FullTesting').glob('*/images/*.png')\n",
    "testing_sorted = sorted([x for x in testing_paths])\n",
    "\n",
    "#test images\n",
    "im_path = training_sorted[45]\n",
    "im = imageio.imread(str(im_path))\n",
    "\n",
    "im_path2 = masks_sorted[45]\n",
    "im2 = imageio.imread(str(im_path2))\n"
   ]
  },
  {
   "cell_type": "code",
   "execution_count": 3,
   "metadata": {
    "collapsed": true
   },
   "outputs": [],
   "source": [
    "#gray version\n",
    "from skimage.color import rgb2gray\n",
    "def gray_scale(im):\n",
    "    im_gray = rgb2gray(im)\n",
    "    return im_gray"
   ]
  },
  {
   "cell_type": "code",
   "execution_count": 4,
   "metadata": {
    "collapsed": true
   },
   "outputs": [],
   "source": [
    "#Here we try to apply HoG tecnique:\n",
    "from skimage.feature import hog\n",
    "from skimage import data, exposure\n",
    "\n",
    "#should apply this to gray scale image\n",
    "\n",
    "def HoG(im):\n",
    "    fd,hog_image = hog(im, orientations=16, pixels_per_cell=(2, 2),cells_per_block=(3, 3),visualise=True)\n",
    "    return fd,hog_image"
   ]
  },
  {
   "cell_type": "code",
   "execution_count": 5,
   "metadata": {
    "collapsed": false
   },
   "outputs": [],
   "source": [
    "#Here we try to use thresholding to separate\n",
    "#taken from https://www.kaggle.com/stkbailey/teaching-notebook-for-total-imaging-newbies\n",
    "from skimage.filters import threshold_otsu\n",
    "\n",
    "\n",
    "def otsu(im):\n",
    "    thresh_val = threshold_otsu(im)\n",
    "    mask = np.where(im > thresh_val, 1, 0)\n",
    "\n",
    "    # Make sure the larger portion of the mask is considered background\n",
    "    if np.sum(mask==0) < np.sum(mask==1):\n",
    "        mask = np.where(mask, 0, 1)\n",
    "    return mask"
   ]
  },
  {
   "cell_type": "code",
   "execution_count": 6,
   "metadata": {
    "collapsed": false
   },
   "outputs": [
    {
     "data": {
      "text/plain": [
       "<matplotlib.image.AxesImage at 0x12408898>"
      ]
     },
     "execution_count": 6,
     "metadata": {},
     "output_type": "execute_result"
    },
    {
     "data": {
      "image/png": "[encoded data removed]",
      "text/plain": [
       "<matplotlib.figure.Figure at 0xe64c3c8>"
      ]
     },
     "metadata": {},
     "output_type": "display_data"
    }
   ],
   "source": [
    "plt.imshow(otsu(gray_scale(im)))"
   ]
  },
  {
   "cell_type": "code",
   "execution_count": 7,
   "metadata": {
    "collapsed": false
   },
   "outputs": [],
   "source": [
    "# Deriving individual mask for each object\n",
    "\n",
    "def find_labels(mask):    \n",
    "    labels, numlabels = ndimage.label(mask)    \n",
    "    label_arrays = []\n",
    "    im_df = pd.DataFrame(columns=[\"ImageID\",\"EncodedPixels\"])\n",
    "    for n in range(1, numlabels+1, 1):\n",
    "        label_mask = np.where(labels == n, 1, 0)\n",
    "        #only takes masks abovea certan threshold\n",
    "        if sum(sum(label_mask))>=10:        \n",
    "            label_arrays.append(label_mask)\n",
    "        else:\n",
    "            mask = np.where(labels == n, 0, mask)\n",
    "            numlabels += -1\n",
    "    labels, nlabels = ndimage.label(mask)\n",
    "    return (labels,numlabels)\n",
    "\n"
   ]
  },
  {
   "cell_type": "code",
   "execution_count": 8,
   "metadata": {
    "collapsed": true
   },
   "outputs": [],
   "source": [
    "#rle encoding\n",
    "def rle_encoding(x):\n",
    "    '''\n",
    "    x: numpy array of shape (height, width), 1 - mask, 0 - background\n",
    "    Returns run length as list\n",
    "    '''\n",
    "    dots = np.where(x.T.flatten()==1)[0] \n",
    "    run_lengths = []\n",
    "    prev = -2\n",
    "    for b in dots:\n",
    "        if (b>prev+1): run_lengths.extend((b+1, 0))\n",
    "        run_lengths[-1] += 1\n",
    "        prev = b\n",
    "    return \" \".join([str(i) for i in run_lengths])"
   ]
  },
  {
   "cell_type": "code",
   "execution_count": 9,
   "metadata": {
    "collapsed": false
   },
   "outputs": [],
   "source": [
    "def create_row(labels, numlabels, image_id):\n",
    "    row = pd.DataFrame(columns=[\"ImageID\",\"EncodedPixels\"])\n",
    "    for n in range(1, numlabels+1, 1):\n",
    "            label_mask = np.where(labels == n, 1, 0)\n",
    "            rle_string = rle_encoding(label_mask)\n",
    "            series = pd.Series({'ImageID': image_id, 'EncodedPixels': rle_string})\n",
    "            row = row.append(series, ignore_index=True)\n",
    "\n",
    "    return row"
   ]
  },
  {
   "cell_type": "code",
   "execution_count": 10,
   "metadata": {
    "collapsed": false
   },
   "outputs": [],
   "source": [
    "import pandas as pd\n",
    "import skimage\n",
    "from scipy import ndimage \n",
    "from skimage.morphology import watershed\n",
    "from skimage.feature import peak_local_max\n",
    "# prediction using no NN\n",
    "def predict_no_NN():\n",
    "    \n",
    "    #df to output\n",
    "    df = pd.DataFrame(columns=[\"ImageID\",\"EncodedPixels\"])\n",
    "    for image_path in testing_sorted:\n",
    "        im_id = image_path.parts[-3]\n",
    "        im = imageio.imread(str(image_path))\n",
    "        im_gray = gray_scale(im)\n",
    "        mask = otsu(im_gray)\n",
    "        labels,numlabels = find_labels(mask)\n",
    "        row = create_row(labels,numlabels,im_id)\n",
    "        df = df.append(row, ignore_index=True)\n",
    "        \n",
    "        print('hshshs')    \n",
    "    return df\n",
    "\n",
    "    "
   ]
  },
  {
   "cell_type": "code",
   "execution_count": 11,
   "metadata": {
    "collapsed": false
   },
   "outputs": [
    {
     "name": "stdout",
     "output_type": "stream",
     "text": [
      "hshshs\n",
      "hshshs\n",
      "hshshs\n",
      "hshshs\n",
      "hshshs\n",
      "hshshs\n",
      "hshshs\n",
      "hshshs\n",
      "hshshs\n",
      "hshshs\n",
      "hshshs\n",
      "hshshs\n",
      "hshshs\n",
      "hshshs\n",
      "hshshs\n",
      "hshshs\n",
      "hshshs\n",
      "hshshs\n",
      "hshshs\n",
      "hshshs\n",
      "hshshs\n",
      "hshshs\n",
      "hshshs\n",
      "hshshs\n",
      "hshshs\n",
      "hshshs\n",
      "hshshs\n",
      "hshshs\n",
      "hshshs\n",
      "hshshs\n",
      "hshshs\n",
      "hshshs\n",
      "hshshs\n",
      "hshshs\n",
      "hshshs\n",
      "hshshs\n",
      "hshshs\n",
      "hshshs\n",
      "hshshs\n",
      "hshshs\n",
      "hshshs\n",
      "hshshs\n",
      "hshshs\n",
      "hshshs\n",
      "hshshs\n",
      "hshshs\n",
      "hshshs\n",
      "hshshs\n",
      "hshshs\n",
      "hshshs\n",
      "hshshs\n",
      "hshshs\n",
      "hshshs\n",
      "hshshs\n",
      "hshshs\n",
      "hshshs\n",
      "hshshs\n",
      "hshshs\n",
      "hshshs\n",
      "hshshs\n",
      "hshshs\n",
      "hshshs\n",
      "hshshs\n",
      "hshshs\n",
      "hshshs\n"
     ]
    }
   ],
   "source": [
    "df = predict_no_NN()\n",
    "df.to_csv(path_or_buf='../submission.csv', index=None)"
   ]
  },
  {
   "cell_type": "code",
   "execution_count": null,
   "metadata": {
    "collapsed": true
   },
   "outputs": [],
   "source": []
  }
 ],
 "metadata": {
  "anaconda-cloud": {},
  "kernelspec": {
   "display_name": "Python [Anaconda2]",
   "language": "python",
   "name": "Python [Anaconda2]"
  },
  "language_info": {
   "codemirror_mode": {
    "name": "ipython",
    "version": 2
   },
   "file_extension": ".py",
   "mimetype": "text/x-python",
   "name": "python",
   "nbconvert_exporter": "python",
   "pygments_lexer": "ipython2",
   "version": "2.7.12"
  }
 },
 "nbformat": 4,
 "nbformat_minor": 0
}
